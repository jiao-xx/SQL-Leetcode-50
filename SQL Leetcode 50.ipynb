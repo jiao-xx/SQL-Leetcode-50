{
 "cells": [
  {
   "cell_type": "markdown",
   "metadata": {},
   "source": [
    "# SQL Leetcode 50"
   ]
  },
  {
   "cell_type": "markdown",
   "metadata": {},
   "source": [
    "## Basic 1-5"
   ]
  },
  {
   "cell_type": "code",
   "execution_count": null,
   "metadata": {
    "vscode": {
     "languageId": "sql"
    }
   },
   "outputs": [],
   "source": [
    "Select  product_id \n",
    "from Products\n",
    "where low_fats = 'Y'  and recyclable = 'Y'"
   ]
  },
  {
   "cell_type": "code",
   "execution_count": null,
   "metadata": {
    "vscode": {
     "languageId": "sql"
    }
   },
   "outputs": [],
   "source": [
    "select name\n",
    "from Customer\n",
    "where referee_id != 2 or referee_id is null"
   ]
  },
  {
   "cell_type": "code",
   "execution_count": null,
   "metadata": {
    "vscode": {
     "languageId": "sql"
    }
   },
   "outputs": [],
   "source": [
    "Select name\n",
    ", population\n",
    ", area \n",
    "from World\n",
    "where area >= 3000000 \n",
    "or population >= 25000000"
   ]
  },
  {
   "cell_type": "code",
   "execution_count": null,
   "metadata": {
    "vscode": {
     "languageId": "sql"
    }
   },
   "outputs": [],
   "source": [
    "select distinct author_id as id \n",
    "from views\n",
    "where author_id = viewer_id \n",
    "order by author_id asc"
   ]
  },
  {
   "cell_type": "code",
   "execution_count": null,
   "metadata": {
    "vscode": {
     "languageId": "sql"
    }
   },
   "outputs": [],
   "source": [
    "select tweet_id \n",
    "from Tweets\n",
    "where length(content) >15"
   ]
  },
  {
   "cell_type": "markdown",
   "metadata": {},
   "source": [
    "## Basic Join 6 - 14"
   ]
  },
  {
   "cell_type": "code",
   "execution_count": null,
   "metadata": {
    "vscode": {
     "languageId": "sql"
    }
   },
   "outputs": [],
   "source": [
    "select \n",
    "     e2.unique_id\n",
    "    , e1.name     \n",
    "from Employees e1\n",
    "left join EmployeeUNI e2\n",
    "on e1.id = e2.id"
   ]
  },
  {
   "cell_type": "code",
   "execution_count": null,
   "metadata": {
    "vscode": {
     "languageId": "sql"
    }
   },
   "outputs": [],
   "source": [
    "select \n",
    "p.product_name\n",
    ", s.year \n",
    ", s.price \n",
    "from sales s\n",
    "left join Product p\n",
    "on s.product_id = p.product_id"
   ]
  },
  {
   "cell_type": "code",
   "execution_count": null,
   "metadata": {
    "vscode": {
     "languageId": "sql"
    }
   },
   "outputs": [],
   "source": [
    "with left_join as (\n",
    "SELECT \n",
    "    v.customer_id\n",
    "    , t.transaction_id\n",
    "FROM Visits v\n",
    "LEFT JOIN Transactions t\n",
    "ON v.visit_id = t.visit_id\n",
    "WHERE t.transaction_id IS NULL\n",
    ")\n",
    "\n",
    "select customer_id\n",
    ", count(*) as count_no_trans\n",
    "from left_join\n",
    "group by customer_id"
   ]
  },
  {
   "cell_type": "markdown",
   "metadata": {},
   "source": [
    "1. **第一个步骤**：首先，查询使用 `LEFT JOIN` 将 `Visits` 表和 `Transactions` 表联接在一起，联接条件是 `visit_id`。`LEFT JOIN` 会返回所有 `Visits` 表中的行，以及与 `Transactions` 表中匹配的行。如果在 `Transactions` 表中找不到匹配的行，那么 `transaction_id` 的值就会是 `NULL`。查询中的 `WHERE` 子句 `t.transaction_id IS NULL` 会过滤出那些没有匹配的行，也就是那些没有交易的访问。\n",
    "2. **第二个步骤**：接着，查询对第一个步骤的结果按 `customer_id` 分组，并计算每个组的行数。这个行数就是每个客户没有交易的次数。"
   ]
  },
  {
   "cell_type": "code",
   "execution_count": null,
   "metadata": {
    "vscode": {
     "languageId": "sql"
    }
   },
   "outputs": [],
   "source": [
    "WITH date_pairs AS (\n",
    "    SELECT \n",
    "        w1.id as id,\n",
    "        w1.recordDate as date1, \n",
    "        w2.recordDate as date2, \n",
    "        w1.temperature as temp1, \n",
    "        w2.temperature as temp2\n",
    "    FROM Weather w1, Weather w2 \n",
    "    Order by w1.id\n",
    ")\n",
    "\n",
    "SELECT id\n",
    "FROM date_pairs\n",
    "WHERE DATEDIFF(date1, date2) = 1 \n",
    "    AND temp1 > temp2"
   ]
  },
  {
   "cell_type": "code",
   "execution_count": null,
   "metadata": {
    "vscode": {
     "languageId": "sql"
    }
   },
   "outputs": [],
   "source": [
    "with timev as (\n",
    "select machine_id\n",
    ", process_id\n",
    ", activity_type\n",
    ", timestamp - LEAD(timestamp) OVER(PARTITION BY machine_id, process_id ORDER BY activity_type DESC) AS difference\n",
    "from Activity\n",
    " )\n",
    "\n",
    "SELECT\n",
    "  machine_id\n",
    "  , ROUND(AVG(difference), 3) AS processing_time\n",
    "FROM timev \n",
    "GROUP BY 1"
   ]
  },
  {
   "cell_type": "code",
   "execution_count": null,
   "metadata": {
    "vscode": {
     "languageId": "sql"
    }
   },
   "outputs": [],
   "source": [
    "select \n",
    "e.name \n",
    ",b.bonus \n",
    "from employee e\n",
    "left join bonus b\n",
    "on e.empId = b.empId \n",
    "where b.bonus < 1000 \n",
    "or b.bonus is null"
   ]
  },
  {
   "cell_type": "code",
   "execution_count": null,
   "metadata": {
    "vscode": {
     "languageId": "sql"
    }
   },
   "outputs": [],
   "source": [
    "WITH ExaminationsCount AS (\n",
    "    SELECT student_id\n",
    "    , subject_name\n",
    "    , COUNT(*) AS attended_exams\n",
    "    FROM Examinations\n",
    "    GROUP BY student_id, subject_name\n",
    " )\n",
    "\n",
    "SELECT \n",
    "    s.student_id,\n",
    "    s.student_name, \n",
    "    sub.subject_name, \n",
    "    COALESCE(e.attended_exams, 0) as attended_exams\n",
    "FROM students s\n",
    "CROSS JOIN Subjects sub\n",
    "LEFT JOIN ExaminationsCount e\n",
    "ON s.student_id = e.student_id AND sub.subject_name = e.subject_name\n",
    "ORDER BY s.student_id, sub.subject_name"
   ]
  },
  {
   "cell_type": "code",
   "execution_count": null,
   "metadata": {
    "vscode": {
     "languageId": "sql"
    }
   },
   "outputs": [],
   "source": [
    "select \n",
    "e1.name\n",
    "from Employee e1\n",
    "join Employee e2\n",
    "on e1.id = e2.managerId\n",
    "group by e2.managerId\n",
    "having count(e2.id)>=5"
   ]
  },
  {
   "cell_type": "code",
   "execution_count": null,
   "metadata": {
    "vscode": {
     "languageId": "sql"
    }
   },
   "outputs": [],
   "source": [
    "With confirmed as (\n",
    "    SELECT user_id, \n",
    "    IF(action=\"confirmed\",1,0) AS is_confirmed\n",
    "    FROM Confirmations\n",
    ")\n",
    ",average as (\n",
    " SELECT user_id, \n",
    "    ROUND(AVG(is_confirmed),2) AS confirmation_rate\n",
    "  FROM confirmed\n",
    "  GROUP BY user_id\n",
    ")\n",
    "\n",
    "SELECT s.user_id, \n",
    "       COALESCE(av.confirmation_rate, 0) AS confirmation_rate\n",
    "FROM Signups AS s \n",
    "LEFT JOIN average AS av\n",
    "ON s.user_id = av.user_id;"
   ]
  },
  {
   "cell_type": "markdown",
   "metadata": {},
   "source": [
    "## Basic Aggregate Functions 15"
   ]
  },
  {
   "cell_type": "code",
   "execution_count": null,
   "metadata": {
    "vscode": {
     "languageId": "sql"
    }
   },
   "outputs": [],
   "source": [
    "select id\n",
    ", movie \n",
    ", description\n",
    ", rating\n",
    "from Cinema\n",
    "where (id % 2) > 0\n",
    "and description != 'boring' \n",
    "order by rating desc"
   ]
  },
  {
   "cell_type": "code",
   "execution_count": null,
   "metadata": {
    "vscode": {
     "languageId": "sql"
    }
   },
   "outputs": [],
   "source": [
    "with ori as (\n",
    "select \n",
    "p.product_id\n",
    ", p.price \n",
    ", s.units\n",
    "from Prices p\n",
    "join UnitsSold s\n",
    "on p.product_id = s.product_id\n",
    "AND s.purchase_date BETWEEN p.Start_date and p.end_date\n",
    ")\n",
    "\n",
    "select\n",
    "product_id\n",
    ", round(sum(price * units) / sum(units),2) as average_price\n",
    "from ori\n",
    "group by p.product_id"
   ]
  },
  {
   "cell_type": "code",
   "execution_count": null,
   "metadata": {
    "vscode": {
     "languageId": "sql"
    }
   },
   "outputs": [],
   "source": [
    "with joins as (\n",
    "select p.project_id \n",
    ", p.employee_id \n",
    ", e.name \n",
    ", e.experience_years\n",
    "from Project p\n",
    "join Employee e\n",
    "on p.employee_id = e.employee_id\n",
    ")\n",
    "\n",
    "select project_id\n",
    "     , round(avg(experience_years),2) as average_years\n",
    "from joins\n",
    "group by 1"
   ]
  },
  {
   "cell_type": "code",
   "execution_count": null,
   "metadata": {
    "vscode": {
     "languageId": "sql"
    }
   },
   "outputs": [],
   "source": [
    "WITH total_users AS (\n",
    "  SELECT COUNT(user_id) as total \n",
    "  FROM Users\n",
    ")\n",
    ",\n",
    "contest_users AS (\n",
    "  SELECT \n",
    "    r.contest_id, \n",
    "    count(distinct r.user_id) as user_count\n",
    "  FROM Register r\n",
    "  GROUP BY r.contest_id\n",
    ")\n",
    "\n",
    "SELECT \n",
    "  cu.contest_id, \n",
    "  ROUND((cu.user_count / tu.total) * 100, 2) as percentage\n",
    "FROM contest_users cu, total_users tu\n",
    "ORDER BY percentage DESC, cu.contest_id;"
   ]
  },
  {
   "cell_type": "code",
   "execution_count": null,
   "metadata": {
    "vscode": {
     "languageId": "sql"
    }
   },
   "outputs": [],
   "source": [
    "select query_name\n",
    ", round(avg(rating/position),2) as quality\n",
    ", round(sum(rating < 3)/ count(query_name)*100,2) as poor_query_percentage\n",
    "from Queries\n",
    "group by query_name"
   ]
  },
  {
   "cell_type": "code",
   "execution_count": null,
   "metadata": {
    "vscode": {
     "languageId": "sql"
    }
   },
   "outputs": [],
   "source": [
    "SELECT \n",
    "SUBSTR(trans_date,1,7) as month\n",
    ", country\n",
    ", count(*) as trans_count\n",
    ", SUM(IF(state = 'approved', 1, 0)) as approved_count\n",
    ", SUM(amount) as trans_total_amount\n",
    ", SUM(IF(state = 'approved',amount,0)) as approved_total_amount\n",
    "\n",
    "FROM Transactions\n",
    "GROUP BY SUBSTR(trans_date,1,7), country"
   ]
  },
  {
   "cell_type": "code",
   "execution_count": null,
   "metadata": {
    "vscode": {
     "languageId": "sql"
    }
   },
   "outputs": [],
   "source": [
    "WITH table1 AS (\n",
    "SELECT\n",
    "  customer_id\n",
    "  , min(order_date) as first_order\n",
    "FROM Delivery \n",
    "GROUP BY customer_id\n",
    " )\n",
    "\n",
    "SELECT \n",
    "ROUND(SUM(IF(d.order_date = d.customer_pref_delivery_date, 1, 0)) / COUNT(*) * 100, 2) as immediate_percentage \n",
    "FROM Delivery d\n",
    "INNER JOIN table1 t\n",
    "ON d.customer_id = t.customer_id \n",
    "AND d.order_date = t.first_order"
   ]
  },
  {
   "cell_type": "code",
   "execution_count": null,
   "metadata": {
    "vscode": {
     "languageId": "sql"
    }
   },
   "outputs": [],
   "source": [
    "with first as(\n",
    "select \n",
    "player_id\n",
    ", min(event_date) as first_log\n",
    "from Activity\n",
    "group by player_id\n",
    ")\n",
    ", later_log as(\n",
    "select \n",
    "a.player_id\n",
    "from Activity a\n",
    "join first f\n",
    "on a.player_id = f.player_id\n",
    "where a.event_date = DATE_ADD(f.first_log, INTERVAL 1 DAY)\n",
    ")\n",
    "\n",
    "select \n",
    "round(count(distinct l.player_id) \n",
    "  / count(distinct f.player_id) ,2) as fraction\n",
    "from first f\n",
    "left join later_log l\n",
    "on l.player_id = f.player_id"
   ]
  },
  {
   "cell_type": "markdown",
   "metadata": {},
   "source": [
    "## Sorting and Grouping 23"
   ]
  },
  {
   "cell_type": "code",
   "execution_count": null,
   "metadata": {
    "vscode": {
     "languageId": "sql"
    }
   },
   "outputs": [],
   "source": [
    "SELECT\n",
    "teacher_id\n",
    ", COUNT(DISTINCT subject_id) as cnt\n",
    "FROM Teacher\n",
    "GROUP BY teacher_id"
   ]
  },
  {
   "cell_type": "code",
   "execution_count": null,
   "metadata": {
    "vscode": {
     "languageId": "sql"
    }
   },
   "outputs": [],
   "source": [
    "SELECT \n",
    "activity_date as day\n",
    ", COUNT(DISTINCT user_id) as active_users\n",
    "FROM Activity\n",
    "WHERE (activity_date > \"2019-06-27\" \n",
    "AND activity_date <= \"2019-07-27\")\n",
    "GROUP BY activity_date"
   ]
  },
  {
   "cell_type": "code",
   "execution_count": null,
   "metadata": {
    "vscode": {
     "languageId": "sql"
    }
   },
   "outputs": [],
   "source": [
    "WITH product_first_year AS (\n",
    "    SELECT product_id, MIN(year) AS first_year\n",
    "    FROM Sales \n",
    "    GROUP BY product_id\n",
    ")\n",
    "SELECT s.product_id\n",
    ", s.year AS first_year\n",
    ", s.quantity\n",
    ", s.price\n",
    "FROM Sales s\n",
    "JOIN product_first_year pfy \n",
    "ON s.product_id = pfy.product_id \n",
    "AND s.year = pfy.first_year;"
   ]
  },
  {
   "cell_type": "code",
   "execution_count": null,
   "metadata": {
    "vscode": {
     "languageId": "sql"
    }
   },
   "outputs": [],
   "source": [
    "SELECT class\n",
    "FROM Courses\n",
    "GROUP BY class\n",
    "HAVING COUNT(class) >=5"
   ]
  },
  {
   "cell_type": "code",
   "execution_count": null,
   "metadata": {
    "vscode": {
     "languageId": "sql"
    }
   },
   "outputs": [],
   "source": [
    "SELECT user_id\n",
    ", COUNT(follower_id) AS followers_count\n",
    "FROM Followers\n",
    "GROUP BY user_id\n",
    "ORDER BY user_id"
   ]
  },
  {
   "cell_type": "code",
   "execution_count": null,
   "metadata": {
    "vscode": {
     "languageId": "sql"
    }
   },
   "outputs": [],
   "source": [
    "WITH ONCE AS(\n",
    "SELECT num\n",
    "FROM MyNumbers\n",
    "GROUP BY num\n",
    "HAVING COUNT(num) = 1\n",
    ")\n",
    "SELECT MAX(M.num) AS num\n",
    "FROM MyNumbers M\n",
    "JOIN ONCE O\n",
    "ON O.num = M.num"
   ]
  },
  {
   "cell_type": "code",
   "execution_count": null,
   "metadata": {
    "vscode": {
     "languageId": "sql"
    }
   },
   "outputs": [],
   "source": [
    "WITH customer_sum AS (\n",
    "    SELECT customer_id, SUM(DISTINCT product_key) AS sum_product_key\n",
    "    FROM Customer\n",
    "    GROUP BY customer_id\n",
    "),\n",
    "total_product_sum AS (\n",
    "    SELECT SUM(product_key) AS total_product_key\n",
    "    FROM Product\n",
    ")\n",
    "SELECT cs.customer_id\n",
    "FROM customer_sum cs, total_product_sum tps\n",
    "WHERE cs.sum_product_key = tps.total_product_key;"
   ]
  },
  {
   "cell_type": "markdown",
   "metadata": {},
   "source": [
    "## Advanced Select and Joins 30"
   ]
  },
  {
   "cell_type": "code",
   "execution_count": null,
   "metadata": {
    "vscode": {
     "languageId": "sql"
    }
   },
   "outputs": [],
   "source": [
    "with direct_reports AS (\n",
    "  SELECT\n",
    "    reports_to AS manager_id \n",
    "    , COUNT(DISTINCT employee_id) AS reports_count\n",
    "    , ROUND(AVG(age), 0) AS average_age\n",
    "  FROM Employees\n",
    "  GROUP BY 1\n",
    ")\n",
    "\n",
    "SELECT \n",
    "  e.employee_id\n",
    "  , e.name\n",
    "  , dr.reports_count\n",
    "  , dr.average_age\n",
    "from Employees e\n",
    "left join direct_reports dr \n",
    "  ON e.employee_id = dr.manager_id\n",
    "  where reports_count > 0 \n",
    "Order by employee_id"
   ]
  },
  {
   "cell_type": "code",
   "execution_count": null,
   "metadata": {
    "vscode": {
     "languageId": "sql"
    }
   },
   "outputs": [],
   "source": [
    "select employee_id,\n",
    "case when count(employee_id) = 1 then department_id\n",
    "else max(if(primary_flag = 'Y',department_id, 0))\n",
    "end as department_id\n",
    "from Employee\n",
    "group by employee_id"
   ]
  },
  {
   "cell_type": "code",
   "execution_count": null,
   "metadata": {
    "vscode": {
     "languageId": "sql"
    }
   },
   "outputs": [],
   "source": [
    "SELECT \n",
    "*\n",
    ", CASE WHEN \n",
    "x + y > z and x + z > y and y + z > x  THEN 'Yes'\n",
    "ELSE 'No'\n",
    "END AS triangle\n",
    "FROM Triangle"
   ]
  },
  {
   "cell_type": "code",
   "execution_count": null,
   "metadata": {
    "vscode": {
     "languageId": "sql"
    }
   },
   "outputs": [],
   "source": [
    "SELECT distinct \n",
    "    i1.num as ConsecutiveNums \n",
    "FROM \n",
    "    logs i1,\n",
    "    logs i2,\n",
    "    logs i3\n",
    "WHERE \n",
    "    i1.id=i2.id+1 AND \n",
    "    i2.id=i3.id+1 AND \n",
    "    i1.num=i2.num AND \n",
    "    i2.num=i3.num"
   ]
  },
  {
   "cell_type": "code",
   "execution_count": null,
   "metadata": {
    "vscode": {
     "languageId": "sql"
    }
   },
   "outputs": [],
   "source": [
    "with prod as (\n",
    "    select \n",
    "            product_id\n",
    "            , max(change_date) as ldate  \n",
    "    from Products \n",
    "    where change_date <= '2019-08-16' \n",
    "    group by product_id\n",
    "    )\n",
    "\n",
    "select distinct p.product_id\n",
    "-- 如果一个产品的新价格是 NULL（这意味着这个产品在查询日期之前没有价格变更），那么它的价格就是 10。\n",
    ", coalesce(pri.new_price,10) as price \n",
    "from Products p \n",
    "left join prod pr\n",
    "on pr.product_id=p.product_id \n",
    "left join Products pri \n",
    "on pri.product_id=p.product_id \n",
    "and pri.change_date=pr.ldate"
   ]
  },
  {
   "cell_type": "markdown",
   "metadata": {},
   "source": [
    "1. 使用 CTE 找出每个产品的最后更改日期（如果存在）。\n",
    "2. 将 **`Products`** 表和 CTE 连接起来，获取每个产品的最后更改日期。\n",
    "3. 再次将结果和 **`Products`** 表连接起来，获取每个产品的新价格。"
   ]
  },
  {
   "cell_type": "code",
   "execution_count": null,
   "metadata": {
    "vscode": {
     "languageId": "sql"
    }
   },
   "outputs": [],
   "source": [
    "SELECT q1.person_name\n",
    "FROM Queue q1 \n",
    "JOIN Queue q2 \n",
    "ON q1.turn >= q2.turn\n",
    "GROUP BY q1.turn\n",
    "HAVING SUM(q2.weight) <= 1000\n",
    "ORDER BY SUM(q2.weight) DESC\n",
    "LIMIT 1"
   ]
  },
  {
   "cell_type": "markdown",
   "metadata": {},
   "source": [
    "这个问题的解题思路是利用 SQL 的 `JOIN`、`GROUP BY` 和 `HAVING` 来计算每个人以及他们前面的所有人的体重总和，然后找出体重总和不超过 1000 公斤的最后一个人。\n",
    "\n",
    "1. `FROM Queue q1 JOIN Queue q2 ON q1.turn >= q2.turn`：这个 `JOIN` 的目的是为了获取每个人（`q1`）和他们前面的所有人（`q2`）。如果 `q1.turn` 大于等于 `q2.turn`，那么 `q2` 就是 `q1` 前面的一个人。这个 `JOIN` 会返回所有这样的配对。\n",
    "2. `GROUP BY q1.turn`：这个 `GROUP BY` 的目的是将上一步返回的配对按照 `q1` 的 `turn` 分组。每个组代表一个人和他前面的所有人。\n",
    "3. `HAVING SUM(q2.weight) <= 1000`：这个 `HAVING` 子句的目的是过滤掉体重总和超过 1000 公斤的组。`SUM(q2.weight)` 计算的是每个组中所有人的体重总和。\n",
    "4. `ORDER BY SUM(q2.weight) DESC`：这个 `ORDER BY` 子句的目的是按照体重总和的降序排列组。因为我们想找的是体重总和不超过 1000 公斤的最后一个人，所以我们需要先看体重最重的组。\n",
    "5. `LIMIT 1`：这个 `LIMIT` 子句的目的是只返回排名最高的一行，也就是体重总和不超过 1000 公斤的最后一个人。\n",
    "\n",
    "总的来说，这个查询的目的是找出可以登上公交车的最后一个人，也就是他和他前面的所有人的体重总和不超过 1000 公斤的最后一个人。"
   ]
  },
  {
   "cell_type": "code",
   "execution_count": null,
   "metadata": {
    "vscode": {
     "languageId": "sql"
    }
   },
   "outputs": [],
   "source": [
    "select 'Low Salary' as category\n",
    ", count(*) as accounts_count\n",
    "from Accounts\n",
    "where income < 20000\n",
    "\n",
    "UNION \n",
    "select 'High Salary', count(*)\n",
    "from Accounts \n",
    "where income > 50000\n",
    "\n",
    "UNION\n",
    "select 'Average Salary', count(*)\n",
    "from Accounts \n",
    "where income >= 20000 and income <= 50000"
   ]
  },
  {
   "cell_type": "markdown",
   "metadata": {},
   "source": [
    "这个 SQL 查询的目的是计算每个薪资等级的银行账户数量。查询的主要部分是三个 `SELECT` 语句，它们分别计算了 \"Low Salary\"、\"High Salary\" 和 \"Average Salary\" 这三个薪资等级的账户数量。这三个 `SELECT` 语句通过 `UNION` 连接在一起，形成了最终的结果。\n",
    "\n",
    "让我们逐个解析这三个 `SELECT` 语句：\n",
    "\n",
    "1. **第一个 `SELECT` 语句**：这个语句选取了所有薪资严格小于 20000 的账户，将它们的薪资等级设为 \"Low Salary\"，并计算了这些账户的数量。\n",
    "2. **第二个 `SELECT` 语句**：这个语句选取了所有薪资严格大于 50000 的账户，将它们的薪资等级设为 \"High Salary\"，并计算了这些账户的数量。\n",
    "3. **第三个 `SELECT` 语句**：这个语句选取了所有薪资在 20000 和 50000（包含两端）之间的账户，将它们的薪资等级设为 \"Average Salary\"，并计算了这些账户的数量。\n",
    "\n",
    "最后，通过 `UNION` 将这三个 `SELECT` 语句的结果合并在一起，得到了每个薪资等级的银行账户数量。注意，`UNION` 会自动去除重复的行，但是在这个查询中，由于每个 `SELECT` 语句的结果的薪资等级都是不同的，所以不会有重复的行。"
   ]
  },
  {
   "cell_type": "markdown",
   "metadata": {},
   "source": [
    "## Subqueries 37"
   ]
  },
  {
   "cell_type": "code",
   "execution_count": null,
   "metadata": {
    "vscode": {
     "languageId": "sql"
    }
   },
   "outputs": [],
   "source": [
    "WITH salary AS(\n",
    "SELECT *\n",
    "FROM Employees\n",
    "WHERE salary < 30000\n",
    ")\n",
    "\n",
    "SELECT employee_id\n",
    "FROM salary\n",
    "WHERE manager_id NOT IN (\n",
    "  SELECT employee_id\n",
    "  FROM Employees\n",
    "  )\n",
    "ORDER BY employee_id"
   ]
  },
  {
   "cell_type": "code",
   "execution_count": null,
   "metadata": {
    "vscode": {
     "languageId": "sql"
    }
   },
   "outputs": [],
   "source": [
    "SELECT \n",
    "case \n",
    "    when id % 2 = 0 then id - 1\n",
    "    when id % 2 <> 0 and id = (select count(*) from Seat ) then id\n",
    "    else id +1\n",
    "    end as id\n",
    ", student\n",
    "FROM Seat\n",
    "ORDER BY id"
   ]
  },
  {
   "cell_type": "code",
   "execution_count": null,
   "metadata": {
    "vscode": {
     "languageId": "sql"
    }
   },
   "outputs": [],
   "source": [
    "(\n",
    "SELECT \n",
    "u.name as results\n",
    "FROM Users u\n",
    "LEFT JOIN MovieRating R\n",
    "ON U.user_id = R.user_id\n",
    "group by r.user_id\n",
    "order by count(movie_id) desc , u.name\n",
    "LIMIT 1\n",
    ")\n",
    "\n",
    "union all\n",
    "\n",
    "(\n",
    "SELECT\n",
    "m.title as results\n",
    "FROM Movies m \n",
    "left join MovieRating r\n",
    "on m.movie_id = r.movie_id\n",
    "where DATE(r.created_at) BETWEEN '2020-02-01' AND '2020-02-29'\n",
    "group by m.title \n",
    "order by avg(r.rating) desc, m.title\n",
    "limit 1\n",
    ")"
   ]
  },
  {
   "cell_type": "code",
   "execution_count": null,
   "metadata": {
    "vscode": {
     "languageId": "sql"
    }
   },
   "outputs": [],
   "source": [
    "WITH daily_amounts AS (\n",
    "    SELECT \n",
    "        visited_on, \n",
    "        SUM(amount) as total_amount\n",
    "    FROM customer \n",
    "    GROUP BY 1\n",
    "),\n",
    "windowed AS (\n",
    "    SELECT \n",
    "        visited_on\n",
    "        , COUNT(visited_on) OVER (\n",
    "            ORDER BY visited_on ROWS BETWEEN 6 PRECEDING and CURRENT ROW\n",
    "        ) as day_cnt\n",
    "        , SUM(total_amount) OVER (\n",
    "            ORDER BY visited_on ROWS BETWEEN 6 PRECEDING and CURRENT ROW\n",
    "        ) as amount\n",
    "        , AVG(total_amount) OVER (\n",
    "            ORDER BY visited_on ROWS BETWEEN 6 PRECEDING and CURRENT ROW\n",
    "        ) as average_amount\n",
    "    FROM daily_amounts\n",
    ")\n",
    "SELECT \n",
    "    visited_on\n",
    "    , amount\n",
    "    , ROUND(average_amount, 2) AS average_amount\n",
    "FROM  windowed\n",
    "WHERE  day_cnt = 7"
   ]
  },
  {
   "cell_type": "code",
   "execution_count": null,
   "metadata": {
    "vscode": {
     "languageId": "sql"
    }
   },
   "outputs": [],
   "source": [
    "with united as\n",
    "(   \n",
    "    select requester_id\n",
    "    from RequestAccepted\n",
    "\n",
    "    union all\n",
    "\n",
    "    select accepter_id\n",
    "    from RequestAccepted\n",
    ")\n",
    "\n",
    "select \n",
    "requester_id as id\n",
    ", count(*) as num\n",
    "from united\n",
    "group by 1\n",
    "order by 2 desc\n",
    "limit 1"
   ]
  },
  {
   "cell_type": "code",
   "execution_count": null,
   "metadata": {
    "vscode": {
     "languageId": "sql"
    }
   },
   "outputs": [],
   "source": [
    "WITH VAL AS (\n",
    "SELECT \n",
    "tiv_2015\n",
    "FROM Insurance\n",
    "GROUP BY tiv_2015\n",
    "HAVING COUNT(*) > 1 \n",
    "),\n",
    "LOCATION AS (\n",
    "SELECT \n",
    "lat\n",
    ", lon\n",
    "FROM Insurance\n",
    "GROUP BY 1,2\n",
    "HAVING COUNT(*) = 1\n",
    ")\n",
    "\n",
    "SELECT \n",
    "round(sum(tiv_2016),2) as tiv_2016\n",
    "FROM Insurance\n",
    "WHERE tiv_2015 IN (SELECT tiv_2015 FROM VAL )\n",
    "AND (lat,lon) IN (SELECT lat, lon FROM LOCATION)"
   ]
  },
  {
   "cell_type": "code",
   "execution_count": null,
   "metadata": {
    "vscode": {
     "languageId": "sql"
    }
   },
   "outputs": [],
   "source": [
    "with salary_rank as(\n",
    "    SELECT \n",
    "        *, \n",
    "        DENSE_RANK() OVER(PARTITION BY departmentId ORDER BY salary DESC) AS salary_ranking\n",
    "    FROM Employee\n",
    "    )\n",
    "\n",
    ", organized as (\n",
    "    SELECT \n",
    "    departmentId\n",
    "    , name\n",
    "    , salary\n",
    "    FROM salary_rank\n",
    "    WHERE salary_ranking <= 3\n",
    ")\n",
    "\n",
    "select \n",
    "d.name as Department\n",
    ", o.name as Employee\n",
    ", salary \n",
    "from organized o\n",
    "left join Department d\n",
    "on d.id = o.departmentId\n",
    "order by salary"
   ]
  },
  {
   "cell_type": "markdown",
   "metadata": {},
   "source": [
    "## Advanced String Functions / Regex / Clause 44"
   ]
  },
  {
   "cell_type": "code",
   "execution_count": null,
   "metadata": {
    "vscode": {
     "languageId": "sql"
    }
   },
   "outputs": [],
   "source": [
    "select \n",
    "user_id\n",
    ", CONCAT(UPPER(SUBSTRING(name, 1, 1)), LOWER(SUBSTRING(name, 2))) AS name\n",
    "FROM Users\n",
    "ORDER BY user_id"
   ]
  },
  {
   "cell_type": "code",
   "execution_count": null,
   "metadata": {
    "vscode": {
     "languageId": "sql"
    }
   },
   "outputs": [],
   "source": [
    "SELECT *\n",
    "FROM Patients\n",
    "WHERE conditions LIKE \"% DIAB1%\"\n",
    "or conditions LIKE \"DIAB1%\""
   ]
  },
  {
   "cell_type": "code",
   "execution_count": null,
   "metadata": {
    "vscode": {
     "languageId": "sql"
    }
   },
   "outputs": [],
   "source": [
    "DELETE p1 FROM Person p1\n",
    "INNER JOIN Person p2 \n",
    "WHERE p1.email = p2.email AND p1.id > p2.id"
   ]
  },
  {
   "cell_type": "code",
   "execution_count": null,
   "metadata": {
    "vscode": {
     "languageId": "sql"
    }
   },
   "outputs": [],
   "source": [
    "with ranking_all as (\n",
    "select \n",
    "*\n",
    ", dense_rank()over(order by salary desc) as ranking\n",
    "from Employee\n",
    ")\n",
    "\n",
    "select \n",
    "max(salary) as SecondHighestSalary\n",
    "from ranking_all\n",
    "where ranking = 2"
   ]
  },
  {
   "cell_type": "code",
   "execution_count": null,
   "metadata": {
    "vscode": {
     "languageId": "sql"
    }
   },
   "outputs": [],
   "source": [
    "SELECT \n",
    "sell_date\n",
    ", COUNT(DISTINCT product) AS num_sold\n",
    ", GROUP_CONCAT(distinct product order by product separator ',') AS products\n",
    "FROM Activities\n",
    "GROUP BY 1\n",
    "ORDER BY 1"
   ]
  },
  {
   "cell_type": "code",
   "execution_count": null,
   "metadata": {
    "vscode": {
     "languageId": "sql"
    }
   },
   "outputs": [],
   "source": [
    "select \n",
    "p.product_name\n",
    ", sum(o.unit) as unit\n",
    "from Products p\n",
    "left join Orders o\n",
    "on p.product_id = o.product_id\n",
    "where DATE(order_date) BETWEEN '2020-02-01' AND '2020-02-29'\n",
    "group by p.product_name\n",
    "having sum(o.unit) >= 100"
   ]
  },
  {
   "cell_type": "code",
   "execution_count": null,
   "metadata": {
    "vscode": {
     "languageId": "sql"
    }
   },
   "outputs": [],
   "source": [
    "SELECT *\n",
    "FROM Users\n",
    "WHERE mail REGEXP '^[a-zA-Z][a-zA-Z0-9_.-]*@leetcode.com$'\n",
    "AND mail NOT LIKE '%?%'"
   ]
  }
 ],
 "metadata": {
  "kernelspec": {
   "display_name": "Python 3",
   "language": "python",
   "name": "python3"
  },
  "language_info": {
   "codemirror_mode": {
    "name": "ipython",
    "version": 3
   },
   "file_extension": ".py",
   "mimetype": "text/x-python",
   "name": "python",
   "nbconvert_exporter": "python",
   "pygments_lexer": "ipython3",
   "version": "3.10.6"
  }
 },
 "nbformat": 4,
 "nbformat_minor": 2
}
